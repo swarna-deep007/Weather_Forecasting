{
  "nbformat": 4,
  "nbformat_minor": 0,
  "metadata": {
    "colab": {
      "provenance": [],
      "include_colab_link": true
    },
    "kernelspec": {
      "name": "python3",
      "display_name": "Python 3"
    },
    "language_info": {
      "name": "python"
    }
  },
  "cells": [
    {
      "cell_type": "markdown",
      "metadata": {
        "id": "view-in-github",
        "colab_type": "text"
      },
      "source": [
        "<a href=\"https://colab.research.google.com/github/swarna-deep007/Weather_Forecasting/blob/main/Weather_forecast.ipynb\" target=\"_parent\"><img src=\"https://colab.research.google.com/assets/colab-badge.svg\" alt=\"Open In Colab\"/></a>"
      ]
    },
    {
      "cell_type": "code",
      "execution_count": null,
      "metadata": {
        "id": "FNXX-AhXHq7k"
      },
      "outputs": [],
      "source": [
        "import pandas as pd\n"
      ]
    },
    {
      "cell_type": "code",
      "source": [
        "weather_data = pd.read_csv(\"/content/4109917.csv\")"
      ],
      "metadata": {
        "colab": {
          "base_uri": "https://localhost:8080/"
        },
        "id": "U28dcoVOH37F",
        "outputId": "9c4278b8-fa4f-4ce5-dd5d-59c5f4b6ac48"
      },
      "execution_count": null,
      "outputs": [
        {
          "output_type": "stream",
          "name": "stderr",
          "text": [
            "/tmp/ipython-input-3420463879.py:1: DtypeWarning: Columns (9) have mixed types. Specify dtype option on import or set low_memory=False.\n",
            "  weather_data = pd.read_csv(\"/content/4109917.csv\")\n"
          ]
        }
      ]
    },
    {
      "cell_type": "code",
      "source": [
        "weather_data.info()"
      ],
      "metadata": {
        "colab": {
          "base_uri": "https://localhost:8080/"
        },
        "id": "OkWqjoKbICVv",
        "outputId": "c8414618-dcbd-45bc-e53c-a745a75b2684"
      },
      "execution_count": null,
      "outputs": [
        {
          "output_type": "stream",
          "name": "stdout",
          "text": [
            "<class 'pandas.core.frame.DataFrame'>\n",
            "RangeIndex: 217531 entries, 0 to 217530\n",
            "Data columns (total 16 columns):\n",
            " #   Column           Non-Null Count   Dtype  \n",
            "---  ------           --------------   -----  \n",
            " 0   STATION          217531 non-null  object \n",
            " 1   NAME             217531 non-null  object \n",
            " 2   LATITUDE         217531 non-null  float64\n",
            " 3   LONGITUDE        217531 non-null  float64\n",
            " 4   ELEVATION        217531 non-null  float64\n",
            " 5   DATE             217531 non-null  object \n",
            " 6   PRCP             94596 non-null   float64\n",
            " 7   PRCP_ATTRIBUTES  94596 non-null   object \n",
            " 8   SNWD             4 non-null       float64\n",
            " 9   SNWD_ATTRIBUTES  4 non-null       object \n",
            " 10  TAVG             217531 non-null  int64  \n",
            " 11  TAVG_ATTRIBUTES  217531 non-null  object \n",
            " 12  TMAX             164326 non-null  float64\n",
            " 13  TMAX_ATTRIBUTES  164326 non-null  object \n",
            " 14  TMIN             160420 non-null  float64\n",
            " 15  TMIN_ATTRIBUTES  160420 non-null  object \n",
            "dtypes: float64(7), int64(1), object(8)\n",
            "memory usage: 26.6+ MB\n"
          ]
        }
      ]
    },
    {
      "cell_type": "code",
      "source": [
        "prcp_unique = weather_data[\"PRCP_ATTRIBUTES\"].unique()\n",
        "print(prcp_unique)"
      ],
      "metadata": {
        "colab": {
          "base_uri": "https://localhost:8080/"
        },
        "id": "lh8yUE_1IEH9",
        "outputId": "f5fdbcc4-e5ec-4140-c71f-296ebdf009ee"
      },
      "execution_count": null,
      "outputs": [
        {
          "output_type": "stream",
          "name": "stdout",
          "text": [
            "['D,,S' nan ',,S' ',O,S' 'B,,S' ',G,S']\n"
          ]
        }
      ]
    },
    {
      "cell_type": "markdown",
      "source": [
        "### PRCP_ATTRIBUTES Meaning\n",
        "\n",
        "The `PRCP_ATTRIBUTES` column describes the quality flags for precipitation (`PRCP`) data.  \n",
        "Each attribute is usually in the form `M,F,S` where:\n",
        "\n",
        "1. **M (Measurement flag)** – Indicates how the data was measured.  \n",
        "   - `D` = Derived (calculated, not directly measured)  \n",
        "   - `B` = Estimate based on nearby stations  \n",
        "   - `G` = Generated automatically  \n",
        "   - `O` = Observed (direct measurement, best quality)\n",
        "\n",
        "2. **F (Quality flag)** – Checks for errors or suspicious values.  \n",
        "   - If blank → No issue  \n",
        "   - If not blank → There might be a problem with data quality\n",
        "\n",
        "3. **S (Source flag)** – Tells which data source provided the value.  \n",
        "   - `S` = Standard source (NOAA official) → Usually reliable\n",
        "\n",
        "---\n",
        "\n",
        "### Your Unique Values\n",
        "\n",
        "- **`D,,S`** → Derived data, no quality issues, standard source ✅ (usable)  \n",
        "- **`,,S`** → No special measurement flag, no quality issues, standard source ✅ (usable)  \n",
        "- **`,O,S`** → Observed (directly measured), no quality issues, standard source ✅ (best quality)  \n",
        "- **`B,,S`** → Estimated data, no quality issues, standard source ⚠️ (usable but less reliable)  \n",
        "- **`,G,S`** → Generated automatically, no quality issues, standard source ⚠️ (usable but check carefully)\n",
        "\n",
        "---\n",
        "\n",
        "### Which Are Bad?\n",
        "\n",
        "- None of them are truly **bad**, but:  \n",
        "  - `B,,S` (estimated) and `,G,S` (generated) are **less reliable** than observed (`O`).  \n",
        "  - For best analysis, prioritize rows with `,O,S` or `,,S`.  \n",
        "  - Keep `D,,S` if no better data exists.  \n",
        "  - Treat `B,,S` and `,G,S` as backup values.\n",
        "\n",
        "### Data Quality Guide for Station Filtering\n",
        "\n",
        "#### **PRCP (Precipitation):**\n",
        "- ✅ **Best:** `,,S` or `D,,S`  \n",
        "- ⚠️ **Watch out:**  \n",
        "  - `,O,S` → Outliers  \n",
        "  - `B,,S` → Bad/failed bounds  \n",
        "  - `,G,S` → Gap-filled (not measured)  \n",
        "\n",
        "---\n",
        "\n",
        "#### **TMAX / TMIN (Temperature):**\n",
        "- ✅ **Best:** `,,S`  \n",
        "- ⚠️ **Watch out:**  \n",
        "  - `,O,S` → Outlier  \n",
        "  - `,I,S` → Interpolated (not measured)  \n",
        "\n",
        "---\n",
        "\n",
        "#### **TAVG (Average Temperature):**\n",
        "- ℹ️ Most values are `H,,S` → Derived from high/low temps (normal and acceptable).  \n"
      ],
      "metadata": {
        "id": "iwXK5iCaNIgP"
      }
    },
    {
      "cell_type": "code",
      "source": [
        "station_dfs = {}\n",
        "\n",
        "# Split dataset by station name\n",
        "for station, group in weather_data.groupby(\"NAME\"):\n",
        "    station_dfs[station] = group.reset_index(drop=True)\n",
        "\n",
        "# Function to check unique values of attribute columns for each station\n",
        "def check_station_attributes(station_name):\n",
        "    if station_name not in station_dfs:\n",
        "        print(f\"Station '{station_name}' not found.\")\n",
        "        return\n",
        "\n",
        "    station_df = station_dfs[station_name]\n",
        "    print(f\"\\n--- {station_name} ---\")\n",
        "    for col in station_df.columns:\n",
        "        if \"ATTRIBUTES\" in col:  # Only check attribute columns\n",
        "            print(f\"{col} unique values: {station_df[col].dropna().unique()}\")\n",
        "\n",
        "# Example: check attributes for one station\n",
        "check_station_attributes(list(station_dfs.keys())[0])\n",
        "\n",
        "# If you want to loop over all stations and see their unique attribute values:\n",
        "for station in station_dfs.keys():\n",
        "    check_station_attributes(station)"
      ],
      "metadata": {
        "colab": {
          "base_uri": "https://localhost:8080/"
        },
        "id": "IInEbdMGJXxU",
        "outputId": "3f829770-1620-43c5-8440-7eb015d0be3f"
      },
      "execution_count": null,
      "outputs": [
        {
          "output_type": "stream",
          "name": "stdout",
          "text": [
            "\n",
            "--- AHMADABAD, IN ---\n",
            "PRCP_ATTRIBUTES unique values: ['D,,S' ',,S']\n",
            "SNWD_ATTRIBUTES unique values: []\n",
            "TAVG_ATTRIBUTES unique values: ['H,,S']\n",
            "TMAX_ATTRIBUTES unique values: [',,S' ',O,S']\n",
            "TMIN_ATTRIBUTES unique values: [',,S' ',O,S']\n",
            "\n",
            "--- AHMADABAD, IN ---\n",
            "PRCP_ATTRIBUTES unique values: ['D,,S' ',,S']\n",
            "SNWD_ATTRIBUTES unique values: []\n",
            "TAVG_ATTRIBUTES unique values: ['H,,S']\n",
            "TMAX_ATTRIBUTES unique values: [',,S' ',O,S']\n",
            "TMIN_ATTRIBUTES unique values: [',,S' ',O,S']\n",
            "\n",
            "--- AKOLA, IN ---\n",
            "PRCP_ATTRIBUTES unique values: ['D,,S' ',,S']\n",
            "SNWD_ATTRIBUTES unique values: []\n",
            "TAVG_ATTRIBUTES unique values: ['H,,S']\n",
            "TMAX_ATTRIBUTES unique values: [',,S' ',O,S']\n",
            "TMIN_ATTRIBUTES unique values: [',,S']\n",
            "\n",
            "--- ALLAHABAD, IN ---\n",
            "PRCP_ATTRIBUTES unique values: ['D,,S' ',,S']\n",
            "SNWD_ATTRIBUTES unique values: []\n",
            "TAVG_ATTRIBUTES unique values: ['H,,S']\n",
            "TMAX_ATTRIBUTES unique values: [',,S']\n",
            "TMIN_ATTRIBUTES unique values: [',,S']\n",
            "\n",
            "--- AMRITSAR, IN ---\n",
            "PRCP_ATTRIBUTES unique values: ['D,,S' ',,S' ',O,S']\n",
            "SNWD_ATTRIBUTES unique values: [',,S']\n",
            "TAVG_ATTRIBUTES unique values: ['H,,S']\n",
            "TMAX_ATTRIBUTES unique values: [',,S' ',O,S']\n",
            "TMIN_ATTRIBUTES unique values: [',,S']\n",
            "\n",
            "--- BAHRAICH, IN ---\n",
            "PRCP_ATTRIBUTES unique values: [',,S']\n",
            "SNWD_ATTRIBUTES unique values: []\n",
            "TAVG_ATTRIBUTES unique values: ['H,,S']\n",
            "TMAX_ATTRIBUTES unique values: [',,S' ',O,S']\n",
            "TMIN_ATTRIBUTES unique values: [',,S']\n",
            "\n",
            "--- BANGALORE, IN ---\n",
            "PRCP_ATTRIBUTES unique values: [',,S' 'D,,S' 'B,,S' ',O,S']\n",
            "SNWD_ATTRIBUTES unique values: []\n",
            "TAVG_ATTRIBUTES unique values: ['H,,S']\n",
            "TMAX_ATTRIBUTES unique values: [',,S' ',O,S']\n",
            "TMIN_ATTRIBUTES unique values: [',,S' ',O,S']\n",
            "\n",
            "--- BAREILLY, IN ---\n",
            "PRCP_ATTRIBUTES unique values: [',,S' 'D,,S' ',O,S']\n",
            "SNWD_ATTRIBUTES unique values: []\n",
            "TAVG_ATTRIBUTES unique values: ['H,,S']\n",
            "TMAX_ATTRIBUTES unique values: [',,S' ',O,S' ',I,S']\n",
            "TMIN_ATTRIBUTES unique values: [',,S' ',I,S' ',O,S']\n",
            "\n",
            "--- BARMER, IN ---\n",
            "PRCP_ATTRIBUTES unique values: ['D,,S' ',,S']\n",
            "SNWD_ATTRIBUTES unique values: []\n",
            "TAVG_ATTRIBUTES unique values: ['H,,S']\n",
            "TMAX_ATTRIBUTES unique values: [',,S']\n",
            "TMIN_ATTRIBUTES unique values: [',,S']\n",
            "\n",
            "--- BHAGALPUR, IN ---\n",
            "PRCP_ATTRIBUTES unique values: ['D,,S' ',,S' ',O,S']\n",
            "SNWD_ATTRIBUTES unique values: []\n",
            "TAVG_ATTRIBUTES unique values: ['H,,S']\n",
            "TMAX_ATTRIBUTES unique values: [',,S' ',O,S']\n",
            "TMIN_ATTRIBUTES unique values: [',,S']\n",
            "\n",
            "--- BHAUNAGAR, IN ---\n",
            "PRCP_ATTRIBUTES unique values: [',,S']\n",
            "SNWD_ATTRIBUTES unique values: []\n",
            "TAVG_ATTRIBUTES unique values: ['H,,S']\n",
            "TMAX_ATTRIBUTES unique values: [',,S']\n",
            "TMIN_ATTRIBUTES unique values: [',,S']\n",
            "\n",
            "--- BHOPAL BAIRAGARH, IN ---\n",
            "PRCP_ATTRIBUTES unique values: ['D,,S' ',,S' ',O,S']\n",
            "SNWD_ATTRIBUTES unique values: []\n",
            "TAVG_ATTRIBUTES unique values: ['H,,S']\n",
            "TMAX_ATTRIBUTES unique values: [',,S']\n",
            "TMIN_ATTRIBUTES unique values: [',,S' ',O,S']\n",
            "\n",
            "--- BHUBANESWAR, IN ---\n",
            "PRCP_ATTRIBUTES unique values: ['D,,S' ',,S' ',G,S']\n",
            "SNWD_ATTRIBUTES unique values: []\n",
            "TAVG_ATTRIBUTES unique values: ['H,,S']\n",
            "TMAX_ATTRIBUTES unique values: [',,S']\n",
            "TMIN_ATTRIBUTES unique values: [',,S' ',O,S']\n",
            "\n",
            "--- BIKANER, IN ---\n",
            "PRCP_ATTRIBUTES unique values: ['D,,S' ',,S']\n",
            "SNWD_ATTRIBUTES unique values: []\n",
            "TAVG_ATTRIBUTES unique values: ['H,,S']\n",
            "TMAX_ATTRIBUTES unique values: [',,S' ',O,S']\n",
            "TMIN_ATTRIBUTES unique values: [',,S']\n",
            "\n",
            "--- BOMBAY SANTACRUZ, IN ---\n",
            "PRCP_ATTRIBUTES unique values: ['D,,S' ',,S']\n",
            "SNWD_ATTRIBUTES unique values: []\n",
            "TAVG_ATTRIBUTES unique values: ['H,,S']\n",
            "TMAX_ATTRIBUTES unique values: [',,S' ',O,S']\n",
            "TMIN_ATTRIBUTES unique values: [',,S']\n",
            "\n",
            "--- CALCUTTA ALIPORE, IN ---\n",
            "PRCP_ATTRIBUTES unique values: [',,S']\n",
            "SNWD_ATTRIBUTES unique values: []\n",
            "TAVG_ATTRIBUTES unique values: ['H,,S']\n",
            "TMAX_ATTRIBUTES unique values: [',,S']\n",
            "TMIN_ATTRIBUTES unique values: [',,S']\n",
            "\n",
            "--- CALCUTTA DUM DUM, IN ---\n",
            "PRCP_ATTRIBUTES unique values: ['D,,S' ',,S' ',O,S']\n",
            "SNWD_ATTRIBUTES unique values: []\n",
            "TAVG_ATTRIBUTES unique values: ['H,,S']\n",
            "TMAX_ATTRIBUTES unique values: [',,S' ',O,S']\n",
            "TMIN_ATTRIBUTES unique values: [',,S']\n",
            "\n",
            "--- CHANDIGARH IAFB, IN ---\n",
            "PRCP_ATTRIBUTES unique values: [',,S']\n",
            "SNWD_ATTRIBUTES unique values: []\n",
            "TAVG_ATTRIBUTES unique values: ['H,,S']\n",
            "TMAX_ATTRIBUTES unique values: [',,S']\n",
            "TMIN_ATTRIBUTES unique values: [',,S']\n",
            "\n",
            "--- CHANDRAPUR, IN ---\n",
            "PRCP_ATTRIBUTES unique values: [',,S']\n",
            "SNWD_ATTRIBUTES unique values: []\n",
            "TAVG_ATTRIBUTES unique values: ['H,,S']\n",
            "TMAX_ATTRIBUTES unique values: [',,S']\n",
            "TMIN_ATTRIBUTES unique values: [',,S']\n",
            "\n",
            "--- CHERRAPUNJI, IN ---\n",
            "PRCP_ATTRIBUTES unique values: [',,S']\n",
            "SNWD_ATTRIBUTES unique values: []\n",
            "TAVG_ATTRIBUTES unique values: ['H,,S']\n",
            "TMAX_ATTRIBUTES unique values: [',,S']\n",
            "TMIN_ATTRIBUTES unique values: [',,S']\n",
            "\n",
            "--- COIMBATORE PEELAMED, IN ---\n",
            "PRCP_ATTRIBUTES unique values: ['D,,S' ',,S' ',G,S']\n",
            "SNWD_ATTRIBUTES unique values: []\n",
            "TAVG_ATTRIBUTES unique values: ['H,,S']\n",
            "TMAX_ATTRIBUTES unique values: [',,S' ',O,S']\n",
            "TMIN_ATTRIBUTES unique values: [',,S' ',O,S']\n",
            "\n",
            "--- COOCH BEHAR, IN ---\n",
            "PRCP_ATTRIBUTES unique values: [',,S']\n",
            "SNWD_ATTRIBUTES unique values: []\n",
            "TAVG_ATTRIBUTES unique values: ['H,,S']\n",
            "TMAX_ATTRIBUTES unique values: [',,S']\n",
            "TMIN_ATTRIBUTES unique values: [',,S']\n",
            "\n",
            "--- CUDDALORE, IN ---\n",
            "PRCP_ATTRIBUTES unique values: [',,S' 'D,,S']\n",
            "SNWD_ATTRIBUTES unique values: []\n",
            "TAVG_ATTRIBUTES unique values: ['H,,S']\n",
            "TMAX_ATTRIBUTES unique values: [',,S' ',O,S']\n",
            "TMIN_ATTRIBUTES unique values: [',,S' ',O,S']\n",
            "\n",
            "--- DALTONGANJ, IN ---\n",
            "PRCP_ATTRIBUTES unique values: [',,S']\n",
            "SNWD_ATTRIBUTES unique values: []\n",
            "TAVG_ATTRIBUTES unique values: ['H,,S']\n",
            "TMAX_ATTRIBUTES unique values: [',,S' ',O,S']\n",
            "TMIN_ATTRIBUTES unique values: [',,S']\n",
            "\n",
            "--- DEHRADUN, IN ---\n",
            "PRCP_ATTRIBUTES unique values: [',,S' 'D,,S']\n",
            "SNWD_ATTRIBUTES unique values: [',,S']\n",
            "TAVG_ATTRIBUTES unique values: ['H,,S']\n",
            "TMAX_ATTRIBUTES unique values: [',,S' ',O,S']\n",
            "TMIN_ATTRIBUTES unique values: [',,S']\n",
            "\n",
            "--- DHUBRI, IN ---\n",
            "PRCP_ATTRIBUTES unique values: [',,S']\n",
            "SNWD_ATTRIBUTES unique values: []\n",
            "TAVG_ATTRIBUTES unique values: ['H,,S']\n",
            "TMAX_ATTRIBUTES unique values: [',,S' ',I,S']\n",
            "TMIN_ATTRIBUTES unique values: [',,S' ',I,S']\n",
            "\n",
            "--- DIBRUGARH MOHANBAR, IN ---\n",
            "PRCP_ATTRIBUTES unique values: ['D,,S' ',,S' ',O,S']\n",
            "SNWD_ATTRIBUTES unique values: []\n",
            "TAVG_ATTRIBUTES unique values: ['H,,S']\n",
            "TMAX_ATTRIBUTES unique values: [',,S']\n",
            "TMIN_ATTRIBUTES unique values: [',,S' ',O,S']\n"
          ]
        }
      ]
    },
    {
      "cell_type": "code",
      "source": [
        "# List of stations you want to keep\n",
        "stations_to_keep = [\n",
        "    \"ALLAHABAD, IN\",\n",
        "    \"BARMER, IN\",\n",
        "    \"BHAUNAGAR, IN\",\n",
        "    \"CALCUTTA ALIPORE, IN\",\n",
        "    \"CHANDIGARH IAFB, IN\",\n",
        "    \"CHANDRAPUR, IN\",\n",
        "    \"CHERRAPUNJI, IN\",\n",
        "    \"COOCH BEHAR, IN\"\n",
        "]\n",
        "\n",
        "# Filter the dataframe\n",
        "filtered_df = weather_data[weather_data[\"NAME\"].isin(stations_to_keep)]\n",
        "\n",
        "# Save filtered data (optional)\n",
        "filtered_df.to_csv(\"filtered_stations.csv\", index=False)\n",
        "\n",
        "# Check unique station names in filtered dataset\n",
        "print(filtered_df[\"NAME\"].unique())"
      ],
      "metadata": {
        "colab": {
          "base_uri": "https://localhost:8080/"
        },
        "id": "tTkZQ0fSN4vo",
        "outputId": "3062de29-267a-4cd0-a456-dcc26815ed23"
      },
      "execution_count": null,
      "outputs": [
        {
          "output_type": "stream",
          "name": "stdout",
          "text": [
            "['ALLAHABAD, IN' 'CHANDRAPUR, IN' 'BHAUNAGAR, IN' 'CHERRAPUNJI, IN'\n",
            " 'COOCH BEHAR, IN' 'CALCUTTA ALIPORE, IN' 'CHANDIGARH IAFB, IN'\n",
            " 'BARMER, IN']\n"
          ]
        }
      ]
    },
    {
      "cell_type": "code",
      "source": [
        "filtered_df.info()"
      ],
      "metadata": {
        "colab": {
          "base_uri": "https://localhost:8080/"
        },
        "id": "WNsGB808ON0Q",
        "outputId": "9c9c6642-a6d6-4c7d-c917-ceab6c9dded6"
      },
      "execution_count": null,
      "outputs": [
        {
          "output_type": "stream",
          "name": "stdout",
          "text": [
            "<class 'pandas.core.frame.DataFrame'>\n",
            "Index: 28704 entries, 0 to 204642\n",
            "Data columns (total 16 columns):\n",
            " #   Column           Non-Null Count  Dtype  \n",
            "---  ------           --------------  -----  \n",
            " 0   STATION          28704 non-null  object \n",
            " 1   NAME             28704 non-null  object \n",
            " 2   LATITUDE         28704 non-null  float64\n",
            " 3   LONGITUDE        28704 non-null  float64\n",
            " 4   ELEVATION        28704 non-null  float64\n",
            " 5   DATE             28704 non-null  object \n",
            " 6   PRCP             8215 non-null   float64\n",
            " 7   PRCP_ATTRIBUTES  8215 non-null   object \n",
            " 8   SNWD             0 non-null      float64\n",
            " 9   SNWD_ATTRIBUTES  0 non-null      object \n",
            " 10  TAVG             28704 non-null  int64  \n",
            " 11  TAVG_ATTRIBUTES  28704 non-null  object \n",
            " 12  TMAX             21000 non-null  float64\n",
            " 13  TMAX_ATTRIBUTES  21000 non-null  object \n",
            " 14  TMIN             20433 non-null  float64\n",
            " 15  TMIN_ATTRIBUTES  20433 non-null  object \n",
            "dtypes: float64(7), int64(1), object(8)\n",
            "memory usage: 3.7+ MB\n"
          ]
        }
      ]
    },
    {
      "cell_type": "code",
      "source": [
        "def fill_temperatures(df):\n",
        "    # Fill missing TMAX using TAVG and TMIN\n",
        "    mask = df['TMAX'].isna() & df['TAVG'].notna() & df['TMIN'].notna()\n",
        "    df.loc[mask, 'TMAX'] = 2 * df.loc[mask, 'TAVG'] - df.loc[mask, 'TMIN']\n",
        "\n",
        "    # Fill missing TMIN using TAVG and TMAX\n",
        "    mask = df['TMIN'].isna() & df['TAVG'].notna() & df['TMAX'].notna()\n",
        "    df.loc[mask, 'TMIN'] = 2 * df.loc[mask, 'TAVG'] - df.loc[mask, 'TMAX']\n",
        "\n",
        "    # Fill missing TAVG using TMAX and TMIN\n",
        "    mask = df['TAVG'].isna() & df['TMAX'].notna() & df['TMIN'].notna()\n",
        "    df.loc[mask, 'TAVG'] = (df.loc[mask, 'TMAX'] + df.loc[mask, 'TMIN']) / 2\n",
        "\n",
        "    return df\n",
        "\n",
        "# Run function\n",
        "filtered_df = fill_temperatures(filtered_df)"
      ],
      "metadata": {
        "id": "Jjgy1fOQQY8H"
      },
      "execution_count": null,
      "outputs": []
    },
    {
      "cell_type": "code",
      "source": [
        "filtered_df.info()"
      ],
      "metadata": {
        "colab": {
          "base_uri": "https://localhost:8080/"
        },
        "id": "Ty4Blz6JSaB0",
        "outputId": "dc5258ab-1672-4373-ba6a-14dea7fc0b72"
      },
      "execution_count": null,
      "outputs": [
        {
          "output_type": "stream",
          "name": "stdout",
          "text": [
            "<class 'pandas.core.frame.DataFrame'>\n",
            "Index: 28704 entries, 0 to 204642\n",
            "Data columns (total 16 columns):\n",
            " #   Column           Non-Null Count  Dtype  \n",
            "---  ------           --------------  -----  \n",
            " 0   STATION          28704 non-null  object \n",
            " 1   NAME             28704 non-null  object \n",
            " 2   LATITUDE         28704 non-null  float64\n",
            " 3   LONGITUDE        28704 non-null  float64\n",
            " 4   ELEVATION        28704 non-null  float64\n",
            " 5   DATE             28704 non-null  object \n",
            " 6   PRCP             8215 non-null   float64\n",
            " 7   PRCP_ATTRIBUTES  8215 non-null   object \n",
            " 8   SNWD             0 non-null      float64\n",
            " 9   SNWD_ATTRIBUTES  0 non-null      object \n",
            " 10  TAVG             28704 non-null  int64  \n",
            " 11  TAVG_ATTRIBUTES  28704 non-null  object \n",
            " 12  TMAX             27393 non-null  float64\n",
            " 13  TMAX_ATTRIBUTES  21000 non-null  object \n",
            " 14  TMIN             27393 non-null  float64\n",
            " 15  TMIN_ATTRIBUTES  20433 non-null  object \n",
            "dtypes: float64(7), int64(1), object(8)\n",
            "memory usage: 3.7+ MB\n"
          ]
        }
      ]
    },
    {
      "cell_type": "code",
      "source": [
        "# Fill missing values in TMAX, TMIN, and TAVG with forward-fill then backward-fill\n",
        "filtered_df[['TMAX', 'TMIN', 'TAVG']] = (\n",
        "    filtered_df.groupby(\"STATION\")[['TMAX', 'TMIN', 'TAVG']]\n",
        "    .transform(lambda g: g.ffill().bfill())\n",
        ")\n"
      ],
      "metadata": {
        "colab": {
          "base_uri": "https://localhost:8080/"
        },
        "id": "UcxfUkdpScEu",
        "outputId": "fe296123-2c66-4859-fd42-ffc2ecee2967"
      },
      "execution_count": null,
      "outputs": [
        {
          "output_type": "stream",
          "name": "stderr",
          "text": [
            "/tmp/ipython-input-3951450877.py:2: SettingWithCopyWarning: \n",
            "A value is trying to be set on a copy of a slice from a DataFrame.\n",
            "Try using .loc[row_indexer,col_indexer] = value instead\n",
            "\n",
            "See the caveats in the documentation: https://pandas.pydata.org/pandas-docs/stable/user_guide/indexing.html#returning-a-view-versus-a-copy\n",
            "  filtered_df[['TMAX', 'TMIN', 'TAVG']] = (\n"
          ]
        }
      ]
    },
    {
      "cell_type": "code",
      "source": [
        "filtered_df.info()"
      ],
      "metadata": {
        "colab": {
          "base_uri": "https://localhost:8080/"
        },
        "id": "Ybo77W0-Sw2S",
        "outputId": "9af7b4d8-95a1-46bf-ddc5-7eb775f84e33"
      },
      "execution_count": null,
      "outputs": [
        {
          "output_type": "stream",
          "name": "stdout",
          "text": [
            "<class 'pandas.core.frame.DataFrame'>\n",
            "Index: 28704 entries, 0 to 204642\n",
            "Data columns (total 16 columns):\n",
            " #   Column           Non-Null Count  Dtype  \n",
            "---  ------           --------------  -----  \n",
            " 0   STATION          28704 non-null  object \n",
            " 1   NAME             28704 non-null  object \n",
            " 2   LATITUDE         28704 non-null  float64\n",
            " 3   LONGITUDE        28704 non-null  float64\n",
            " 4   ELEVATION        28704 non-null  float64\n",
            " 5   DATE             28704 non-null  object \n",
            " 6   PRCP             8215 non-null   float64\n",
            " 7   PRCP_ATTRIBUTES  8215 non-null   object \n",
            " 8   SNWD             0 non-null      float64\n",
            " 9   SNWD_ATTRIBUTES  0 non-null      object \n",
            " 10  TAVG             28704 non-null  int64  \n",
            " 11  TAVG_ATTRIBUTES  28704 non-null  object \n",
            " 12  TMAX             28704 non-null  float64\n",
            " 13  TMAX_ATTRIBUTES  21000 non-null  object \n",
            " 14  TMIN             28704 non-null  float64\n",
            " 15  TMIN_ATTRIBUTES  20433 non-null  object \n",
            "dtypes: float64(7), int64(1), object(8)\n",
            "memory usage: 3.7+ MB\n"
          ]
        }
      ]
    },
    {
      "cell_type": "markdown",
      "source": [
        "linear regression to fill prcp"
      ],
      "metadata": {
        "id": "UqvjQTvPTI_k"
      }
    },
    {
      "cell_type": "code",
      "source": [
        "df = filtered_df.copy()\n",
        "\n",
        "from sklearn.linear_model import LinearRegression\n",
        "import numpy as np\n",
        "\n",
        "# Training set: only rows with valid PRCP and all three temps\n",
        "train = df.dropna(subset=[\"PRCP\", \"TAVG\", \"TMAX\", \"TMIN\"])\n",
        "\n",
        "if not train.empty:\n",
        "    X_train = train[[\"TAVG\", \"TMAX\", \"TMIN\"]]\n",
        "    y_train = train[\"PRCP\"]\n",
        "\n",
        "    model = LinearRegression()\n",
        "    model.fit(X_train, y_train)\n",
        "\n",
        "    # Prediction set: rows with missing PRCP but valid temps\n",
        "    missing_mask = df[\"PRCP\"].isnull() & df[[\"TAVG\", \"TMAX\", \"TMIN\"]].notnull().all(axis=1)\n",
        "    X_missing = df.loc[missing_mask, [\"TAVG\", \"TMAX\", \"TMIN\"]]\n",
        "\n",
        "    if not X_missing.empty:\n",
        "        df.loc[missing_mask, \"PRCP\"] = model.predict(X_missing)\n",
        "    else:\n",
        "        print(\"⚠️ No rows with missing PRCP that also have valid TAVG, TMAX, TMIN.\")\n",
        "else:\n",
        "    print(\"⚠️ Not enough data to train model (PRCP + temps missing).\")\n"
      ],
      "metadata": {
        "id": "xZUVOzr_TBDp"
      },
      "execution_count": null,
      "outputs": []
    },
    {
      "cell_type": "code",
      "source": [
        "df.info()"
      ],
      "metadata": {
        "colab": {
          "base_uri": "https://localhost:8080/"
        },
        "id": "JRf_fBHMTY9D",
        "outputId": "b1fee8c6-54e9-47d1-d434-f14db70cf28a"
      },
      "execution_count": null,
      "outputs": [
        {
          "output_type": "stream",
          "name": "stdout",
          "text": [
            "<class 'pandas.core.frame.DataFrame'>\n",
            "Index: 28704 entries, 0 to 204642\n",
            "Data columns (total 16 columns):\n",
            " #   Column           Non-Null Count  Dtype  \n",
            "---  ------           --------------  -----  \n",
            " 0   STATION          28704 non-null  object \n",
            " 1   NAME             28704 non-null  object \n",
            " 2   LATITUDE         28704 non-null  float64\n",
            " 3   LONGITUDE        28704 non-null  float64\n",
            " 4   ELEVATION        28704 non-null  float64\n",
            " 5   DATE             28704 non-null  object \n",
            " 6   PRCP             28704 non-null  float64\n",
            " 7   PRCP_ATTRIBUTES  8215 non-null   object \n",
            " 8   SNWD             0 non-null      float64\n",
            " 9   SNWD_ATTRIBUTES  0 non-null      object \n",
            " 10  TAVG             28704 non-null  int64  \n",
            " 11  TAVG_ATTRIBUTES  28704 non-null  object \n",
            " 12  TMAX             28704 non-null  float64\n",
            " 13  TMAX_ATTRIBUTES  21000 non-null  object \n",
            " 14  TMIN             28704 non-null  float64\n",
            " 15  TMIN_ATTRIBUTES  20433 non-null  object \n",
            "dtypes: float64(7), int64(1), object(8)\n",
            "memory usage: 3.7+ MB\n"
          ]
        }
      ]
    },
    {
      "cell_type": "code",
      "source": [
        "df = df.drop(columns=[\"SNWD\",\"SNWD_ATTRIBUTES\"], errors=\"ignore\")"
      ],
      "metadata": {
        "id": "svlyWl1LTchD"
      },
      "execution_count": null,
      "outputs": []
    },
    {
      "cell_type": "code",
      "source": [
        "df.describe()"
      ],
      "metadata": {
        "colab": {
          "base_uri": "https://localhost:8080/",
          "height": 300
        },
        "id": "krNJzoX-UpfH",
        "outputId": "5de590f9-5e9c-4cad-dbb5-d61fa269819e"
      },
      "execution_count": null,
      "outputs": [
        {
          "output_type": "execute_result",
          "data": {
            "text/plain": [
              "           LATITUDE     LONGITUDE     ELEVATION          PRCP          TAVG  \\\n",
              "count  28704.000000  28704.000000  28704.000000  28704.000000  28704.000000   \n",
              "mean      25.077876     78.750562    142.527557      0.253813     80.822185   \n",
              "std        2.825433      6.505613    147.369526      0.530886     11.016444   \n",
              "min       19.967000     71.383000      6.000000     -0.935172     43.000000   \n",
              "25%       22.533000     71.383000     43.000000      0.000000     73.000000   \n",
              "50%       25.441000     79.300000     98.100000      0.177233     83.000000   \n",
              "75%       25.750000     81.735000    194.000000      0.359159     88.000000   \n",
              "max       30.733000     91.733000   1313.000000     18.540000    110.000000   \n",
              "\n",
              "               TMAX          TMIN  \n",
              "count  28704.000000  28704.000000  \n",
              "mean      92.204397     69.126568  \n",
              "std       10.704947     11.937210  \n",
              "min       48.000000     28.000000  \n",
              "25%       85.000000     60.000000  \n",
              "50%       93.000000     72.000000  \n",
              "75%       99.000000     79.000000  \n",
              "max      131.000000    100.000000  "
            ],
            "text/html": [
              "\n",
              "  <div id=\"df-37200364-9d3f-4615-8449-b0d042a15002\" class=\"colab-df-container\">\n",
              "    <div>\n",
              "<style scoped>\n",
              "    .dataframe tbody tr th:only-of-type {\n",
              "        vertical-align: middle;\n",
              "    }\n",
              "\n",
              "    .dataframe tbody tr th {\n",
              "        vertical-align: top;\n",
              "    }\n",
              "\n",
              "    .dataframe thead th {\n",
              "        text-align: right;\n",
              "    }\n",
              "</style>\n",
              "<table border=\"1\" class=\"dataframe\">\n",
              "  <thead>\n",
              "    <tr style=\"text-align: right;\">\n",
              "      <th></th>\n",
              "      <th>LATITUDE</th>\n",
              "      <th>LONGITUDE</th>\n",
              "      <th>ELEVATION</th>\n",
              "      <th>PRCP</th>\n",
              "      <th>TAVG</th>\n",
              "      <th>TMAX</th>\n",
              "      <th>TMIN</th>\n",
              "    </tr>\n",
              "  </thead>\n",
              "  <tbody>\n",
              "    <tr>\n",
              "      <th>count</th>\n",
              "      <td>28704.000000</td>\n",
              "      <td>28704.000000</td>\n",
              "      <td>28704.000000</td>\n",
              "      <td>28704.000000</td>\n",
              "      <td>28704.000000</td>\n",
              "      <td>28704.000000</td>\n",
              "      <td>28704.000000</td>\n",
              "    </tr>\n",
              "    <tr>\n",
              "      <th>mean</th>\n",
              "      <td>25.077876</td>\n",
              "      <td>78.750562</td>\n",
              "      <td>142.527557</td>\n",
              "      <td>0.253813</td>\n",
              "      <td>80.822185</td>\n",
              "      <td>92.204397</td>\n",
              "      <td>69.126568</td>\n",
              "    </tr>\n",
              "    <tr>\n",
              "      <th>std</th>\n",
              "      <td>2.825433</td>\n",
              "      <td>6.505613</td>\n",
              "      <td>147.369526</td>\n",
              "      <td>0.530886</td>\n",
              "      <td>11.016444</td>\n",
              "      <td>10.704947</td>\n",
              "      <td>11.937210</td>\n",
              "    </tr>\n",
              "    <tr>\n",
              "      <th>min</th>\n",
              "      <td>19.967000</td>\n",
              "      <td>71.383000</td>\n",
              "      <td>6.000000</td>\n",
              "      <td>-0.935172</td>\n",
              "      <td>43.000000</td>\n",
              "      <td>48.000000</td>\n",
              "      <td>28.000000</td>\n",
              "    </tr>\n",
              "    <tr>\n",
              "      <th>25%</th>\n",
              "      <td>22.533000</td>\n",
              "      <td>71.383000</td>\n",
              "      <td>43.000000</td>\n",
              "      <td>0.000000</td>\n",
              "      <td>73.000000</td>\n",
              "      <td>85.000000</td>\n",
              "      <td>60.000000</td>\n",
              "    </tr>\n",
              "    <tr>\n",
              "      <th>50%</th>\n",
              "      <td>25.441000</td>\n",
              "      <td>79.300000</td>\n",
              "      <td>98.100000</td>\n",
              "      <td>0.177233</td>\n",
              "      <td>83.000000</td>\n",
              "      <td>93.000000</td>\n",
              "      <td>72.000000</td>\n",
              "    </tr>\n",
              "    <tr>\n",
              "      <th>75%</th>\n",
              "      <td>25.750000</td>\n",
              "      <td>81.735000</td>\n",
              "      <td>194.000000</td>\n",
              "      <td>0.359159</td>\n",
              "      <td>88.000000</td>\n",
              "      <td>99.000000</td>\n",
              "      <td>79.000000</td>\n",
              "    </tr>\n",
              "    <tr>\n",
              "      <th>max</th>\n",
              "      <td>30.733000</td>\n",
              "      <td>91.733000</td>\n",
              "      <td>1313.000000</td>\n",
              "      <td>18.540000</td>\n",
              "      <td>110.000000</td>\n",
              "      <td>131.000000</td>\n",
              "      <td>100.000000</td>\n",
              "    </tr>\n",
              "  </tbody>\n",
              "</table>\n",
              "</div>\n",
              "    <div class=\"colab-df-buttons\">\n",
              "\n",
              "  <div class=\"colab-df-container\">\n",
              "    <button class=\"colab-df-convert\" onclick=\"convertToInteractive('df-37200364-9d3f-4615-8449-b0d042a15002')\"\n",
              "            title=\"Convert this dataframe to an interactive table.\"\n",
              "            style=\"display:none;\">\n",
              "\n",
              "  <svg xmlns=\"http://www.w3.org/2000/svg\" height=\"24px\" viewBox=\"0 -960 960 960\">\n",
              "    <path d=\"M120-120v-720h720v720H120Zm60-500h600v-160H180v160Zm220 220h160v-160H400v160Zm0 220h160v-160H400v160ZM180-400h160v-160H180v160Zm440 0h160v-160H620v160ZM180-180h160v-160H180v160Zm440 0h160v-160H620v160Z\"/>\n",
              "  </svg>\n",
              "    </button>\n",
              "\n",
              "  <style>\n",
              "    .colab-df-container {\n",
              "      display:flex;\n",
              "      gap: 12px;\n",
              "    }\n",
              "\n",
              "    .colab-df-convert {\n",
              "      background-color: #E8F0FE;\n",
              "      border: none;\n",
              "      border-radius: 50%;\n",
              "      cursor: pointer;\n",
              "      display: none;\n",
              "      fill: #1967D2;\n",
              "      height: 32px;\n",
              "      padding: 0 0 0 0;\n",
              "      width: 32px;\n",
              "    }\n",
              "\n",
              "    .colab-df-convert:hover {\n",
              "      background-color: #E2EBFA;\n",
              "      box-shadow: 0px 1px 2px rgba(60, 64, 67, 0.3), 0px 1px 3px 1px rgba(60, 64, 67, 0.15);\n",
              "      fill: #174EA6;\n",
              "    }\n",
              "\n",
              "    .colab-df-buttons div {\n",
              "      margin-bottom: 4px;\n",
              "    }\n",
              "\n",
              "    [theme=dark] .colab-df-convert {\n",
              "      background-color: #3B4455;\n",
              "      fill: #D2E3FC;\n",
              "    }\n",
              "\n",
              "    [theme=dark] .colab-df-convert:hover {\n",
              "      background-color: #434B5C;\n",
              "      box-shadow: 0px 1px 3px 1px rgba(0, 0, 0, 0.15);\n",
              "      filter: drop-shadow(0px 1px 2px rgba(0, 0, 0, 0.3));\n",
              "      fill: #FFFFFF;\n",
              "    }\n",
              "  </style>\n",
              "\n",
              "    <script>\n",
              "      const buttonEl =\n",
              "        document.querySelector('#df-37200364-9d3f-4615-8449-b0d042a15002 button.colab-df-convert');\n",
              "      buttonEl.style.display =\n",
              "        google.colab.kernel.accessAllowed ? 'block' : 'none';\n",
              "\n",
              "      async function convertToInteractive(key) {\n",
              "        const element = document.querySelector('#df-37200364-9d3f-4615-8449-b0d042a15002');\n",
              "        const dataTable =\n",
              "          await google.colab.kernel.invokeFunction('convertToInteractive',\n",
              "                                                    [key], {});\n",
              "        if (!dataTable) return;\n",
              "\n",
              "        const docLinkHtml = 'Like what you see? Visit the ' +\n",
              "          '<a target=\"_blank\" href=https://colab.research.google.com/notebooks/data_table.ipynb>data table notebook</a>'\n",
              "          + ' to learn more about interactive tables.';\n",
              "        element.innerHTML = '';\n",
              "        dataTable['output_type'] = 'display_data';\n",
              "        await google.colab.output.renderOutput(dataTable, element);\n",
              "        const docLink = document.createElement('div');\n",
              "        docLink.innerHTML = docLinkHtml;\n",
              "        element.appendChild(docLink);\n",
              "      }\n",
              "    </script>\n",
              "  </div>\n",
              "\n",
              "\n",
              "    <div id=\"df-58932c80-6be4-4624-930f-40a47186029f\">\n",
              "      <button class=\"colab-df-quickchart\" onclick=\"quickchart('df-58932c80-6be4-4624-930f-40a47186029f')\"\n",
              "                title=\"Suggest charts\"\n",
              "                style=\"display:none;\">\n",
              "\n",
              "<svg xmlns=\"http://www.w3.org/2000/svg\" height=\"24px\"viewBox=\"0 0 24 24\"\n",
              "     width=\"24px\">\n",
              "    <g>\n",
              "        <path d=\"M19 3H5c-1.1 0-2 .9-2 2v14c0 1.1.9 2 2 2h14c1.1 0 2-.9 2-2V5c0-1.1-.9-2-2-2zM9 17H7v-7h2v7zm4 0h-2V7h2v10zm4 0h-2v-4h2v4z\"/>\n",
              "    </g>\n",
              "</svg>\n",
              "      </button>\n",
              "\n",
              "<style>\n",
              "  .colab-df-quickchart {\n",
              "      --bg-color: #E8F0FE;\n",
              "      --fill-color: #1967D2;\n",
              "      --hover-bg-color: #E2EBFA;\n",
              "      --hover-fill-color: #174EA6;\n",
              "      --disabled-fill-color: #AAA;\n",
              "      --disabled-bg-color: #DDD;\n",
              "  }\n",
              "\n",
              "  [theme=dark] .colab-df-quickchart {\n",
              "      --bg-color: #3B4455;\n",
              "      --fill-color: #D2E3FC;\n",
              "      --hover-bg-color: #434B5C;\n",
              "      --hover-fill-color: #FFFFFF;\n",
              "      --disabled-bg-color: #3B4455;\n",
              "      --disabled-fill-color: #666;\n",
              "  }\n",
              "\n",
              "  .colab-df-quickchart {\n",
              "    background-color: var(--bg-color);\n",
              "    border: none;\n",
              "    border-radius: 50%;\n",
              "    cursor: pointer;\n",
              "    display: none;\n",
              "    fill: var(--fill-color);\n",
              "    height: 32px;\n",
              "    padding: 0;\n",
              "    width: 32px;\n",
              "  }\n",
              "\n",
              "  .colab-df-quickchart:hover {\n",
              "    background-color: var(--hover-bg-color);\n",
              "    box-shadow: 0 1px 2px rgba(60, 64, 67, 0.3), 0 1px 3px 1px rgba(60, 64, 67, 0.15);\n",
              "    fill: var(--button-hover-fill-color);\n",
              "  }\n",
              "\n",
              "  .colab-df-quickchart-complete:disabled,\n",
              "  .colab-df-quickchart-complete:disabled:hover {\n",
              "    background-color: var(--disabled-bg-color);\n",
              "    fill: var(--disabled-fill-color);\n",
              "    box-shadow: none;\n",
              "  }\n",
              "\n",
              "  .colab-df-spinner {\n",
              "    border: 2px solid var(--fill-color);\n",
              "    border-color: transparent;\n",
              "    border-bottom-color: var(--fill-color);\n",
              "    animation:\n",
              "      spin 1s steps(1) infinite;\n",
              "  }\n",
              "\n",
              "  @keyframes spin {\n",
              "    0% {\n",
              "      border-color: transparent;\n",
              "      border-bottom-color: var(--fill-color);\n",
              "      border-left-color: var(--fill-color);\n",
              "    }\n",
              "    20% {\n",
              "      border-color: transparent;\n",
              "      border-left-color: var(--fill-color);\n",
              "      border-top-color: var(--fill-color);\n",
              "    }\n",
              "    30% {\n",
              "      border-color: transparent;\n",
              "      border-left-color: var(--fill-color);\n",
              "      border-top-color: var(--fill-color);\n",
              "      border-right-color: var(--fill-color);\n",
              "    }\n",
              "    40% {\n",
              "      border-color: transparent;\n",
              "      border-right-color: var(--fill-color);\n",
              "      border-top-color: var(--fill-color);\n",
              "    }\n",
              "    60% {\n",
              "      border-color: transparent;\n",
              "      border-right-color: var(--fill-color);\n",
              "    }\n",
              "    80% {\n",
              "      border-color: transparent;\n",
              "      border-right-color: var(--fill-color);\n",
              "      border-bottom-color: var(--fill-color);\n",
              "    }\n",
              "    90% {\n",
              "      border-color: transparent;\n",
              "      border-bottom-color: var(--fill-color);\n",
              "    }\n",
              "  }\n",
              "</style>\n",
              "\n",
              "      <script>\n",
              "        async function quickchart(key) {\n",
              "          const quickchartButtonEl =\n",
              "            document.querySelector('#' + key + ' button');\n",
              "          quickchartButtonEl.disabled = true;  // To prevent multiple clicks.\n",
              "          quickchartButtonEl.classList.add('colab-df-spinner');\n",
              "          try {\n",
              "            const charts = await google.colab.kernel.invokeFunction(\n",
              "                'suggestCharts', [key], {});\n",
              "          } catch (error) {\n",
              "            console.error('Error during call to suggestCharts:', error);\n",
              "          }\n",
              "          quickchartButtonEl.classList.remove('colab-df-spinner');\n",
              "          quickchartButtonEl.classList.add('colab-df-quickchart-complete');\n",
              "        }\n",
              "        (() => {\n",
              "          let quickchartButtonEl =\n",
              "            document.querySelector('#df-58932c80-6be4-4624-930f-40a47186029f button');\n",
              "          quickchartButtonEl.style.display =\n",
              "            google.colab.kernel.accessAllowed ? 'block' : 'none';\n",
              "        })();\n",
              "      </script>\n",
              "    </div>\n",
              "\n",
              "    </div>\n",
              "  </div>\n"
            ],
            "application/vnd.google.colaboratory.intrinsic+json": {
              "type": "dataframe",
              "summary": "{\n  \"name\": \"df\",\n  \"rows\": 8,\n  \"fields\": [\n    {\n      \"column\": \"LATITUDE\",\n      \"properties\": {\n        \"dtype\": \"number\",\n        \"std\": 10140.706237081717,\n        \"min\": 2.8254327605069425,\n        \"max\": 28704.0,\n        \"num_unique_values\": 8,\n        \"samples\": [\n          25.07787573160535,\n          25.441,\n          28704.0\n        ],\n        \"semantic_type\": \"\",\n        \"description\": \"\"\n      }\n    },\n    {\n      \"column\": \"LONGITUDE\",\n      \"properties\": {\n        \"dtype\": \"number\",\n        \"std\": 10124.14679219635,\n        \"min\": 6.505612506538455,\n        \"max\": 28704.0,\n        \"num_unique_values\": 7,\n        \"samples\": [\n          28704.0,\n          78.75056229096991,\n          81.735\n        ],\n        \"semantic_type\": \"\",\n        \"description\": \"\"\n      }\n    },\n    {\n      \"column\": \"ELEVATION\",\n      \"properties\": {\n        \"dtype\": \"number\",\n        \"std\": 10059.269327611937,\n        \"min\": 6.0,\n        \"max\": 28704.0,\n        \"num_unique_values\": 8,\n        \"samples\": [\n          142.5275571348941,\n          98.1,\n          28704.0\n        ],\n        \"semantic_type\": \"\",\n        \"description\": \"\"\n      }\n    },\n    {\n      \"column\": \"PRCP\",\n      \"properties\": {\n        \"dtype\": \"number\",\n        \"std\": 10147.442689450761,\n        \"min\": -0.9351723902010114,\n        \"max\": 28704.0,\n        \"num_unique_values\": 8,\n        \"samples\": [\n          0.2538132569925676,\n          0.17723263123277366,\n          28704.0\n        ],\n        \"semantic_type\": \"\",\n        \"description\": \"\"\n      }\n    },\n    {\n      \"column\": \"TAVG\",\n      \"properties\": {\n        \"dtype\": \"number\",\n        \"std\": 10123.75179033817,\n        \"min\": 11.016443753657217,\n        \"max\": 28704.0,\n        \"num_unique_values\": 8,\n        \"samples\": [\n          80.8221850613155,\n          83.0,\n          28704.0\n        ],\n        \"semantic_type\": \"\",\n        \"description\": \"\"\n      }\n    },\n    {\n      \"column\": \"TMAX\",\n      \"properties\": {\n        \"dtype\": \"number\",\n        \"std\": 10120.23178264052,\n        \"min\": 10.704946945728633,\n        \"max\": 28704.0,\n        \"num_unique_values\": 8,\n        \"samples\": [\n          92.20439659977704,\n          93.0,\n          28704.0\n        ],\n        \"semantic_type\": \"\",\n        \"description\": \"\"\n      }\n    },\n    {\n      \"column\": \"TMIN\",\n      \"properties\": {\n        \"dtype\": \"number\",\n        \"std\": 10127.219048613246,\n        \"min\": 11.937210420771168,\n        \"max\": 28704.0,\n        \"num_unique_values\": 8,\n        \"samples\": [\n          69.12656772575251,\n          72.0,\n          28704.0\n        ],\n        \"semantic_type\": \"\",\n        \"description\": \"\"\n      }\n    }\n  ]\n}"
            }
          },
          "metadata": {},
          "execution_count": 58
        }
      ]
    },
    {
      "cell_type": "code",
      "source": [
        "import matplotlib.pyplot as plt\n",
        "import seaborn as sns\n",
        "plt.figure(figsize=(15, 8))\n",
        "for i, col in enumerate([\"PRCP\", \"TMAX\", \"TMIN\", \"TAVG\"], 1):\n",
        "    plt.subplot(2, 2, i)\n",
        "    sns.histplot(df[col], kde=True, bins=50)\n",
        "    plt.title(f\"Distribution of {col}\")\n",
        "plt.tight_layout()\n",
        "plt.show()"
      ],
      "metadata": {
        "colab": {
          "base_uri": "https://localhost:8080/",
          "height": 745
        },
        "id": "p7JqxFBOUqls",
        "outputId": "aa54b7d0-174d-4fd9-9774-f20f895bbfd4"
      },
      "execution_count": null,
      "outputs": [
        {
          "output_type": "display_data",
          "data": {
            "text/plain": [
              "<Figure size 1500x800 with 4 Axes>"
            ],
            "image/png": "[encoded data removed]"
          },
          "metadata": {}
        }
      ]
    },
    {
      "cell_type": "code",
      "source": [
        "plt.figure(figsize=(8, 6))\n",
        "sns.heatmap(df[[\"PRCP\", \"TMAX\", \"TMIN\", \"TAVG\"]].corr(), annot=True, cmap=\"coolwarm\", fmt=\".2f\")\n",
        "plt.title(\"Correlation Heatmap\")\n",
        "plt.show()"
      ],
      "metadata": {
        "colab": {
          "base_uri": "https://localhost:8080/",
          "height": 545
        },
        "id": "g5UzIP2RUzLf",
        "outputId": "4b2b807f-a023-46ce-fd47-38d29f73d1e8"
      },
      "execution_count": null,
      "outputs": [
        {
          "output_type": "display_data",
          "data": {
            "text/plain": [
              "<Figure size 800x600 with 2 Axes>"
            ],
            "image/png": "[encoded data removed]"
          },
          "metadata": {}
        }
      ]
    },
    {
      "cell_type": "markdown",
      "source": [
        "\n",
        "###Forecast heavy rainfall\n",
        "\n"
      ],
      "metadata": {
        "id": "8DEi2ooaWx2b"
      }
    },
    {
      "cell_type": "code",
      "source": [],
      "metadata": {
        "id": "6sjqm3EuvPda"
      },
      "execution_count": null,
      "outputs": []
    }
  ]
}